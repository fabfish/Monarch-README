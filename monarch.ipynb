{
 "cells": [
  {
   "cell_type": "markdown",
   "metadata": {},
   "source": [
    "reading: Monarch"
   ]
  },
  {
   "cell_type": "markdown",
   "metadata": {},
   "source": [
    "Abs\n",
    "\n",
    "speeding up ViT and GPT-2 training on ImageNet classification and Wikitext-103 language modeling by 2× with comparable model quality, and reducing the error on PDE solving and MRI reconstruction tasks by 40%\n",
    "\n",
    "- GPT2 \n",
    "https://zhuanlan.zhihu.com/p/79714797 \n",
    "纯 decoder\n",
    "\n",
    "- ViT\n",
    "\n",
    "\n",
    "- imagenet \n",
    "https://zhuanlan.zhihu.com/p/370799616\n",
    "\n",
    "- wikitext\n",
    "https://www.cnblogs.com/xuehuiping/p/15343201.html\n",
    "\n",
    "- BERT\n",
    "https://zhuanlan.zhihu.com/p/98855346\n",
    "（*）https://blog.csdn.net/jiaowoshouzi/article/details/89073944\n",
    "\n",
    "- GLUE\n"
   ]
  },
  {
   "cell_type": "markdown",
   "metadata": {},
   "source": [
    "Intro\n",
    "\n",
    "lottery tickets: 原始矩阵中有一个子结构能保有相近的信息\n",
    "pruning: 剪去低于阈值的连接"
   ]
  },
  {
   "cell_type": "markdown",
   "metadata": {},
   "source": [
    "Preliminaries\n",
    "\n",
    "- 13 Kaleidoscope\n",
    "low depth 矩阵可以用万花筒结构来表示。\n",
    "\n",
    "- arithmetic circuits\n",
    "多项式复杂性研究中，Strassen等算法表明矩阵乘法可以用低于n^3的复杂度来实现。\n",
    "low depth 指算法用电路来表示的深度\n",
    "\n"
   ]
  }
 ],
 "metadata": {
  "kernelspec": {
   "display_name": "Python 3.9.12 ('base')",
   "language": "python",
   "name": "python3"
  },
  "language_info": {
   "name": "python",
   "version": "3.9.12"
  },
  "orig_nbformat": 4,
  "vscode": {
   "interpreter": {
    "hash": "ad2bdc8ecc057115af97d19610ffacc2b4e99fae6737bb82f5d7fb13d2f2c186"
   }
  }
 },
 "nbformat": 4,
 "nbformat_minor": 2
}
